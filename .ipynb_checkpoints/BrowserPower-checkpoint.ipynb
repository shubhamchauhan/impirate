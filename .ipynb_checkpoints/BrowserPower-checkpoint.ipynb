{
 "cells": [
  {
   "cell_type": "code",
   "execution_count": null,
   "metadata": {
    "collapsed": false
   },
   "outputs": [],
   "source": [
    "import os\n",
    "import sys\n",
    "import wget \n",
    "\n",
    "from selenium import webdriver\n",
    "from selenium.webdriver.common.keys import Keys\n",
    "from selenium.webdriver.support.ui import WebDriverWait\n",
    "from selenium.webdriver.support import expected_conditions as EC\n",
    "from selenium.webdriver.common.by import By"
   ]
  },
  {
   "cell_type": "code",
   "execution_count": null,
   "metadata": {
    "collapsed": false
   },
   "outputs": [],
   "source": [
    "url = \"https://redirector.googlevideo.com/videoplayback?id=7f21afcf6ec3a2de&itag=18&source=webdrive&requiressl=yes&ttl=transient&mm=30&mn=sn-2gb7sn7z&ms=nxu&mv=u&nh=IgpwcjAyLnByZzAzKgkxMjcuMC4wLjE&pl=48&mime=video/mp4&lmt=1484994549959561&mt=1486209357&ip=2001:67c:2db8:7::3e0&ipbits=128&expire=1486223899&sparams=ip%2Cipbits%2Cexpire%2Cid%2Citag%2Csource%2Crequiressl%2Cttl%2Cmm%2Cmn%2Cms%2Cmv%2Cnh%2Cpl%2Cmime%2Clmt&signature=4B892C683301E049240AF81D173768BE210CA4B6.7B4F270C05B75E369293F1F1AF92D03F8E7222D6&key=ck2&app=explorer&driveid=0B2aSpxR38G5MUVBsR3FETElZQ3c\"\n",
    "driver = webdriver.Chrome()"
   ]
  },
  {
   "cell_type": "code",
   "execution_count": null,
   "metadata": {
    "collapsed": false
   },
   "outputs": [],
   "source": [
    "driver.get(url)\n",
    "print(driver.execute_script(\"video = document.getElementByTagName('video'); video.duration()\"))"
   ]
  },
  {
   "cell_type": "code",
   "execution_count": null,
   "metadata": {
    "collapsed": true
   },
   "outputs": [],
   "source": []
  }
 ],
 "metadata": {
  "anaconda-cloud": {},
  "kernelspec": {
   "display_name": "Python [Root]",
   "language": "python",
   "name": "Python [Root]"
  },
  "language_info": {
   "codemirror_mode": {
    "name": "ipython",
    "version": 3
   },
   "file_extension": ".py",
   "mimetype": "text/x-python",
   "name": "python",
   "nbconvert_exporter": "python",
   "pygments_lexer": "ipython3",
   "version": "3.5.2"
  }
 },
 "nbformat": 4,
 "nbformat_minor": 0
}
