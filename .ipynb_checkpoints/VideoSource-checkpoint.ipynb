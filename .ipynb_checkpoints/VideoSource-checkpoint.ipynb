{
 "cells": [
  {
   "cell_type": "code",
   "execution_count": 1,
   "metadata": {
    "collapsed": true
   },
   "outputs": [],
   "source": [
    "import requests\n",
    "from bs4 import BeautifulSoup"
   ]
  },
  {
   "cell_type": "code",
   "execution_count": 8,
   "metadata": {
    "collapsed": false
   },
   "outputs": [
    {
     "ename": "IndentationError",
     "evalue": "expected an indented block (<ipython-input-8-d527d2f25a1b>, line 21)",
     "output_type": "error",
     "traceback": [
      "\u001b[1;36m  File \u001b[1;32m\"<ipython-input-8-d527d2f25a1b>\"\u001b[1;36m, line \u001b[1;32m21\u001b[0m\n\u001b[1;33m    if len(k)>0:\u001b[0m\n\u001b[1;37m     ^\u001b[0m\n\u001b[1;31mIndentationError\u001b[0m\u001b[1;31m:\u001b[0m expected an indented block\n"
     ]
    }
   ],
   "source": [
    "class VidSource(object):\n",
    "    def __init__(self, url, keyclass = ['iframe','video','embed']):\n",
    "        self.url = url\n",
    "        self.soupa = ''\n",
    "        self.links = []\n",
    "        self.keys = keyclass\n",
    "    \n",
    "    def __getUrlSource__(self, url):\n",
    "        source_object = requests.get(url)\n",
    "        soup = BeautifulSoup(source_object.text, 'html.parser')\n",
    "        return(soup)\n",
    "        \n",
    "    def _getLinks_(self, termlist, soup):\n",
    "        for i in termlist:\n",
    "            self._loadIframes_(i, soup)\n",
    "            \n",
    "    def _loadIframes_(self, i, soup):\n",
    "        soup.findAll(i)\n",
    "        count = count + 1\n",
    "        if len(k)>0:\n",
    "            for j in k:\n",
    "                if j['src'] is None:\n",
    "                    soupb = self.__getUrlSource__(j['src'])\n",
    "                    if count < 4:\n",
    "                        self._getLinks_(['video', 'embed'], soupb)\n",
    "                if j['src'] is not None:\n",
    "                    self._filter_(j['src'])\n",
    "                    \n",
    "    def _filter_(self, url):\n",
    "        soup = self.getUrlSource(url)\n",
    "        k = soup.findAll(self.query)\n",
    "        if len(k) > 0:\n",
    "            self.links.append(url)\n",
    "    \n",
    "    def getResults(self):\n",
    "        count = 0\n",
    "        self.soupa = self.__getUrlSource__(self.url)\n",
    "        self._getLinks_(self.keys, self.soupa)\n",
    "        \n",
    "            \n",
    "        \n",
    "url = 'http://hindimoviesonline.watch/dangal-full-movie-online/'\n",
    "source_object = requests.get(url)\n",
    "soup = BeautifulSoup(source_object.text, 'html.parser')\n",
    "#print(soup.prettify())\n",
    "keyclass = ['iframe','video','embed']"
   ]
  },
  {
   "cell_type": "code",
   "execution_count": 3,
   "metadata": {
    "collapsed": false
   },
   "outputs": [
    {
     "name": "stdout",
     "output_type": "stream",
     "text": [
      "['http://videohost.site/play/y0mgnHcdyduX0M8/', 'http://videohost1.com/play/EEYV5Bmbdwj9ZDy/', 'http://hindimoviesonline.watch/wp-content/uploads/AroundTheWorld.html', 'http://hindimoviesonline.watch/wp-content/uploads/new.html', 'http://hindimoviesonline.watch/wp-content/uploads/TrendingNow.html']\n"
     ]
    }
   ],
   "source": [
    "videolinks = []\n",
    "for i in keyclass:\n",
    "    k = soup.findAll(i)\n",
    "    #print(k)\n",
    "    if len(k)>0:\n",
    "        for j in k:\n",
    "            if j['src'] is not None:\n",
    "                videolinks.append(j['src'])\n",
    "print(videolinks)"
   ]
  },
  {
   "cell_type": "code",
   "execution_count": 4,
   "metadata": {
    "collapsed": false
   },
   "outputs": [
    {
     "name": "stdout",
     "output_type": "stream",
     "text": [
      "{'Pragma': 'no-cache', 'Date': 'Sun, 05 Feb 2017 06:08:58 GMT', 'Expires': 'Fri, 01 Jan 1990 00:00:00 GMT', 'Cache-Control': 'no-cache, must-revalidate', 'Content-Type': 'text/html; charset=UTF-8', 'X-XSS-Protection': '1; mode=block', 'Alt-Svc': 'quic=\":443\"; ma=2592000; v=\"35,34\"', 'Server': 'ClientMapServer', 'X-Frame-Options': 'SAMEORIGIN', 'Content-Length': '2188'}\n"
     ]
    }
   ],
   "source": [
    "r = requests.head('https://redirector.googlevideo.com/videoplayback?id=7f21afcf6ec3a2de&itag=18&source=webdrive&requiressl=yes&ttl=transient&mm=30&mn=sn-2gb7sn7z&ms=nxu&mv=u&nh=IgpwcjAyLnByZzAzKgkxMjcuMC4wLjE&pl=48&mime=video/mp4&lmt=1484994549959561&mt=1486209357&ip=2001:67c:2db8:7::3e0&ipbits=128&expire=1486223899&sparams=ip%2Cipbits%2Cexpire%2Cid%2Citag%2Csource%2Crequiressl%2Cttl%2Cmm%2Cmn%2Cms%2Cmv%2Cnh%2Cpl%2Cmime%2Clmt&signature=4B892C683301E049240AF81D173768BE210CA4B6.7B4F270C05B75E369293F1F1AF92D03F8E7222D6&key=ck2&app=explorer&driveid=0B2aSpxR38G5MUVBsR3FETElZQ3c')\n",
    "print (r.headers)"
   ]
  },
  {
   "cell_type": "code",
   "execution_count": null,
   "metadata": {
    "collapsed": true
   },
   "outputs": [],
   "source": []
  }
 ],
 "metadata": {
  "anaconda-cloud": {},
  "kernelspec": {
   "display_name": "Python [Root]",
   "language": "python",
   "name": "Python [Root]"
  },
  "language_info": {
   "codemirror_mode": {
    "name": "ipython",
    "version": 3
   },
   "file_extension": ".py",
   "mimetype": "text/x-python",
   "name": "python",
   "nbconvert_exporter": "python",
   "pygments_lexer": "ipython3",
   "version": "3.5.2"
  }
 },
 "nbformat": 4,
 "nbformat_minor": 0
}
