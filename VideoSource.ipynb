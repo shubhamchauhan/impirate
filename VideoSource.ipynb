{
 "cells": [
  {
   "cell_type": "code",
   "execution_count": 1,
   "metadata": {
    "collapsed": true
   },
   "outputs": [],
   "source": [
    "import requests\n",
    "from bs4 import BeautifulSoup"
   ]
  },
  {
   "cell_type": "code",
   "execution_count": 33,
   "metadata": {
    "collapsed": false
   },
   "outputs": [],
   "source": [
    "class VidSource(object):\n",
    "    def __init__(self, url, query, keyclass = ['iframe','video','embed']):\n",
    "        self.url = url\n",
    "        self.soupa = ''\n",
    "        self.links = []\n",
    "        self.keys = keyclass\n",
    "        self.count = 0\n",
    "        self.query = query\n",
    "    \n",
    "    def __getUrlSource__(self, url):\n",
    "        source_object = requests.get(url)\n",
    "        soup = BeautifulSoup(source_object.text, 'html.parser')\n",
    "        return(soup)\n",
    "        \n",
    "    def _getLinks_(self, termlist, soup):\n",
    "        for i in termlist:\n",
    "            self._loadIframes_(i, soup)\n",
    "            \n",
    "    def _loadIframes_(self, i, soup):\n",
    "        k = soup.findAll(i)\n",
    "        self.count = self.count + 1\n",
    "        if len(k)>0:\n",
    "            for j in k:\n",
    "                if j['src'] is None:\n",
    "                    soupb = self.__getUrlSource__(j['src'])\n",
    "                    if self.count < 4:\n",
    "                        self._getLinks_(['video', 'embed'], soupb)\n",
    "                    else:\n",
    "                        pass\n",
    "                    \n",
    "                if j['src'] is not None:\n",
    "                    self._filter_(j['src'])\n",
    "                    \n",
    "    def _filter_(self, url):\n",
    "        soup = self.__getUrlSource__(url)\n",
    "        k = soup.findAll('<video>')\n",
    "        if k is not None:\n",
    "            self.links.append(url)\n",
    "    \n",
    "    def getResults(self):\n",
    "        self.soupa = self.__getUrlSource__(self.url)\n",
    "        self._getLinks_(self.keys, self.soupa)\n",
    "        return(self.links)"
   ]
  },
  {
   "cell_type": "code",
   "execution_count": 34,
   "metadata": {
    "collapsed": false
   },
   "outputs": [
    {
     "name": "stdout",
     "output_type": "stream",
     "text": [
      "['http://videohost.site/play/y0mgnHcdyduX0M8/', 'http://videohost1.com/play/EEYV5Bmbdwj9ZDy/', 'http://hindimoviesonline.watch/wp-content/uploads/AroundTheWorld.html', 'http://hindimoviesonline.watch/wp-content/uploads/new.html', 'http://hindimoviesonline.watch/wp-content/uploads/TrendingNow.html']\n"
     ]
    }
   ],
   "source": [
    "if __name__ == '__main__':\n",
    "    address = 'http://hindimoviesonline.watch/dangal-full-movie-online/'\n",
    "    query = 'dangal'\n",
    "    k = VidSource(address, query)\n",
    "    print(k.getResults())"
   ]
  },
  {
   "cell_type": "code",
   "execution_count": null,
   "metadata": {
    "collapsed": false
   },
   "outputs": [],
   "source": []
  },
  {
   "cell_type": "code",
   "execution_count": null,
   "metadata": {
    "collapsed": true
   },
   "outputs": [],
   "source": []
  }
 ],
 "metadata": {
  "anaconda-cloud": {},
  "kernelspec": {
   "display_name": "Python [Root]",
   "language": "python",
   "name": "Python [Root]"
  },
  "language_info": {
   "codemirror_mode": {
    "name": "ipython",
    "version": 3
   },
   "file_extension": ".py",
   "mimetype": "text/x-python",
   "name": "python",
   "nbconvert_exporter": "python",
   "pygments_lexer": "ipython3",
   "version": "3.5.2"
  }
 },
 "nbformat": 4,
 "nbformat_minor": 0
}
